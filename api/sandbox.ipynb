{
 "cells": [
  {
   "cell_type": "code",
   "execution_count": 1,
   "metadata": {},
   "outputs": [],
   "source": [
    "import pandas as pd\n",
    "import numpy as np"
   ]
  },
  {
   "cell_type": "code",
   "execution_count": 40,
   "metadata": {
    "scrolled": false
   },
   "outputs": [
    {
     "name": "stdout",
     "output_type": "stream",
     "text": [
      "['ARG', 'AUS', 'AUT', 'BEL', 'CHL', 'DEU', 'ESP', 'FRA', 'GBR', 'GRC', 'ITA', 'LBN', 'MAR', 'NLD', 'PRT', 'PSE', 'SYR', 'TUN', 'TUR', 'USA']\n",
      "['ARG', 'AUS', 'AUT', 'BEL', 'CHL', 'DEU', 'EGY', 'ESP', 'FRA', 'GBR', 'GRC', 'ISR', 'ITA', 'LBN', 'MAR', 'NLD', 'OMN', 'PRT', 'PSE', 'SYR', 'TUN', 'TUR', 'USA']\n",
      "year               2015       2016       2017       2018       2019\n",
      "partner_code                                                       \n",
      "CHN                 NaN  1940137.0  2402692.0  2223967.0  2326424.0\n",
      "ESP           6271010.0  2759426.0        NaN        NaN        NaN\n",
      "ITA           4759538.0        NaN        NaN        NaN        NaN\n",
      "USA                 NaN        NaN  3509420.0  1905874.0  3614348.0\n",
      "year               2015      2016      2017      2018      2019\n",
      "location_code                                                  \n",
      "ESP            20550386  43578636  43618000  56016768  48370836\n",
      "ITA            17137052  23046560  16918552  20643818  17603524\n"
     ]
    }
   ],
   "source": [
    "# Exploring ways to effectively capture the 'most important' nodes and links\n",
    "\n",
    "# df = pd.read_csv('./data/283691_backup.csv')\n",
    "df = pd.read_pickle('./data/150910.pkl')\n",
    "# print(df)\n",
    "\n",
    "top_n = 20\n",
    "links_per_node = 2\n",
    "\n",
    "# # Old Method\n",
    "# top_exporters = df.groupby('location_code')['export_value'].sum().reset_index()\n",
    "# top_exporters = top_exporters.sort_values('export_value', ascending=False).head(n=top_n)\n",
    "# top_exporters_list = top_exporters['location_code'].to_list()\n",
    "# print(sorted(top_exporters_list))\n",
    "# print(\n",
    "#     df.sort_values('export_value', ascending=False)\\\n",
    "#     .groupby(['year']).head(n=top_n)\\\n",
    "#     .groupby(['year', 'location_code'])['export_value'].sum()\\\n",
    "#     .reset_index()['location_code'].unique()\n",
    "# )\n",
    "top_exporters = df.groupby(['year', 'location_code'])['export_value'].sum()\\\n",
    "    .reset_index().sort_values('export_value', ascending=False)\\\n",
    "    .groupby('year').head(n=top_n)\n",
    "# print(sorted(top_exporters['location_code'].unique()))\n",
    "\n",
    "top_export_links = df.loc[df['location_code'].isin(top_exporters_list)]\\\n",
    "    .sort_values('export_value', ascending=False)\\\n",
    "    .groupby(['location_code', 'year']).head(n=links_per_node)\n",
    "\n",
    "# # Old Method\n",
    "# top_importers = df.groupby('partner_code')['export_value'].sum().reset_index()\n",
    "# top_importers = top_importers.sort_values('export_value', ascending=False).head(n=top_n).rename(columns={'export_value': 'import_value'})\n",
    "# top_importers_list = top_importers['partner_code'].to_list()\n",
    "\n",
    "top_importers = df.groupby(['year', 'location_code'])['export_value'].sum()\\\n",
    "    .reset_index().sort_values('export_value', ascending=False)\\\n",
    "    .groupby('year').head(n=top_n)\n",
    "# print(sorted(top_exporters['location_code'].unique()))\n",
    "\n",
    "top_import_links = df.loc[df['partner_code'].isin(top_importers_list)]\\\n",
    "    .sort_values('export_value', ascending=False)\\\n",
    "    .groupby(['partner_code', 'year']).head(n=links_per_node)\\\n",
    "    .rename(columns={'export_value': 'import_value'})\n",
    "\n",
    "# print(top_import_links)\n",
    "\n",
    "def get_trade_links(country, flowtype):\n",
    "    if flowtype=='import':\n",
    "        dtmp = top_import_links.loc[top_import_links['partner_code']==country]\n",
    "        dtmp = dtmp.pivot(index='location_code', columns='year', values='import_value')\n",
    "    elif flowtype=='export':\n",
    "        dtmp = top_export_links.loc[top_export_links['location_code']==country]\n",
    "        dtmp = dtmp.pivot(index='partner_code', columns='year', values='export_value')\n",
    "    else:\n",
    "        raise('Bad flowtype given to get_trade_links!')\n",
    "    \n",
    "    return dtmp\n",
    "\n",
    "    \n",
    "print(get_trade_links('AUS', 'export'))\n",
    "print(get_trade_links('AUS', 'import'))\n"
   ]
  },
  {
   "cell_type": "code",
   "execution_count": null,
   "metadata": {
    "scrolled": false
   },
   "outputs": [],
   "source": []
  }
 ],
 "metadata": {
  "kernelspec": {
   "display_name": "Python 3 (ipykernel)",
   "language": "python",
   "name": "python3"
  },
  "language_info": {
   "codemirror_mode": {
    "name": "ipython",
    "version": 3
   },
   "file_extension": ".py",
   "mimetype": "text/x-python",
   "name": "python",
   "nbconvert_exporter": "python",
   "pygments_lexer": "ipython3",
   "version": "3.9.6"
  }
 },
 "nbformat": 4,
 "nbformat_minor": 4
}
